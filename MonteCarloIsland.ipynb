{
 "cells": [
  {
   "cell_type": "code",
   "execution_count": 2,
   "metadata": {
    "collapsed": true
   },
   "outputs": [],
   "source": [
    "import numpy as np\n",
    "import matplotlib.pyplot as plt\n",
    "%matplotlib inline\n",
    "plt.style.use(\"fivethirtyeight\")\n",
    "import random"
   ]
  },
  {
   "cell_type": "markdown",
   "metadata": {},
   "source": [
    "There are a group of 7 islands that a politician wants to visit for campaigning. The politician wants to visit each island with probability in direct proportion to the island's population. The islands k = 1-7 have population equal to 1000*k.  Assume the politician starts off on island 4. He can either move left, right, or stay at the current island. He first flips a fair coin to decide whether to move left or right. The politician will move to an island with higher population with probability 1 but will move to a island with lower population with probability p = (lower population)/(current population). "
   ]
  },
  {
   "cell_type": "code",
   "execution_count": 5,
   "metadata": {
    "collapsed": false
   },
   "outputs": [
    {
     "data": {
      "text/plain": [
       "{1: 1000.0, 2: 2000.0, 3: 3000.0, 4: 4000.0, 5: 5000.0, 6: 6000.0, 7: 7000.0}"
      ]
     },
     "execution_count": 5,
     "metadata": {},
     "output_type": "execute_result"
    }
   ],
   "source": [
    "islands = {i:1000.0*i for i in range(1, 8, 1)}\n",
    "islands"
   ]
  },
  {
   "cell_type": "code",
   "execution_count": 23,
   "metadata": {
    "collapsed": true
   },
   "outputs": [],
   "source": [
    "iterations = 1000000\n",
    "left = {1:7, 2:1, 3:2, 4:3, 5:4, 6:5, 7:6}\n",
    "right = {1:2, 2:3, 3:4, 4:5, 5:6, 6:7, 7:1}\n",
    "def simulation(N):\n",
    "    current = 4\n",
    "    visits = {i:0.0 for i in range(1, 8, 1)}\n",
    "    for i in xrange(N):\n",
    "        coin = random.uniform(0.0, 1.0)\n",
    "        if coin < 0.5:\n",
    "            destination = left[current]\n",
    "            if islands[destination] > islands[current]:\n",
    "                current = destination\n",
    "                visits[current] += 1\n",
    "            else:\n",
    "                target = islands[destination] / islands[current]\n",
    "                coin = random.uniform(0.0, 1.0)\n",
    "                if coin < target:\n",
    "                    current = destination\n",
    "                    visits[current] += 1\n",
    "                else:\n",
    "                    visits[current] += 1\n",
    "        else:\n",
    "            destination = right[current]\n",
    "            if islands[destination] > islands[current]:\n",
    "                current = destination\n",
    "                visits[current] += 1\n",
    "            else: \n",
    "                target = islands[destination] / islands[current]\n",
    "                coin = random.uniform(0.0, 1.0)\n",
    "                if coin < target:\n",
    "                    current = destination\n",
    "                    visits[current] += 1\n",
    "                else:\n",
    "                    visits[current] += 1\n",
    "    probs = [visits[i] /N for i in visits.keys()]\n",
    "    plt.bar(range(1, len(islands)+1, 1), probs, align=\"center\")\n",
    "    plt.xlabel(\"Island\")\n",
    "    plt.ylabel(\"Probability\")\n",
    "    plt.title(\"Island Random Walk\")"
   ]
  },
  {
   "cell_type": "markdown",
   "metadata": {},
   "source": [
    "With 1,000,000 iterations of the random walk can start to see clear differences in times spent in different states."
   ]
  },
  {
   "cell_type": "code",
   "execution_count": 24,
   "metadata": {
    "collapsed": false
   },
   "outputs": [
    {
     "data": {
      "image/png": "[encoded data removed]",
      "text/plain": [
       "<matplotlib.figure.Figure at 0x6a642e8>"
      ]
     },
     "metadata": {},
     "output_type": "display_data"
    }
   ],
   "source": [
    "simulation(1000000)"
   ]
  },
  {
   "cell_type": "code",
   "execution_count": null,
   "metadata": {
    "collapsed": true
   },
   "outputs": [],
   "source": []
  }
 ],
 "metadata": {
  "kernelspec": {
   "display_name": "Python 2",
   "language": "python",
   "name": "python2"
  },
  "language_info": {
   "codemirror_mode": {
    "name": "ipython",
    "version": 2
   },
   "file_extension": ".py",
   "mimetype": "text/x-python",
   "name": "python",
   "nbconvert_exporter": "python",
   "pygments_lexer": "ipython2",
   "version": "2.7.12"
  }
 },
 "nbformat": 4,
 "nbformat_minor": 0
}
